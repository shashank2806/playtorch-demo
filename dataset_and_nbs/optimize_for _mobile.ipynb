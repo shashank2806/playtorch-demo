{
 "cells": [
  {
   "cell_type": "code",
   "execution_count": 1,
   "id": "ceccf8a6",
   "metadata": {},
   "outputs": [],
   "source": [
    "import torch\n",
    "import torchvision\n",
    "from torch.utils.mobile_optimizer import optimize_for_mobile"
   ]
  },
  {
   "cell_type": "code",
   "execution_count": 2,
   "id": "e206e79d",
   "metadata": {},
   "outputs": [
    {
     "name": "stderr",
     "output_type": "stream",
     "text": [
      "/home/CBTajeet/miniconda3/envs/fastai/lib/python3.8/site-packages/torch/jit/_script.py:1243: UserWarning: `optimize` is deprecated and has no effect. Use `with torch.jit.optimized_execution() instead\n",
      "  warnings.warn(\n"
     ]
    },
    {
     "name": "stdout",
     "output_type": "stream",
     "text": [
      "model successfully exported\n"
     ]
    }
   ],
   "source": [
    "model = torch.load('view_model_mobile.pt')\n",
    "model.eval()\n",
    "example = torch.rand(1, 3, 224, 224)\n",
    "scripted_model = torch.jit.script(model, example)\n",
    "optimized_model = optimize_for_mobile(scripted_model)\n",
    "optimized_model._save_for_lite_interpreter(\"view_model_mobile.ptl\")\n",
    "\n",
    "print(\"model successfully exported\")"
   ]
  },
  {
   "cell_type": "code",
   "execution_count": 3,
   "id": "80265efa",
   "metadata": {},
   "outputs": [],
   "source": [
    "example = torch.rand(1, 3, 224, 224)"
   ]
  },
  {
   "cell_type": "code",
   "execution_count": 4,
   "id": "46fec314",
   "metadata": {},
   "outputs": [
    {
     "data": {
      "text/plain": [
       "device(type='cpu')"
      ]
     },
     "execution_count": 4,
     "metadata": {},
     "output_type": "execute_result"
    }
   ],
   "source": [
    "example.device"
   ]
  },
  {
   "cell_type": "code",
   "execution_count": 5,
   "id": "a83c0b63",
   "metadata": {},
   "outputs": [],
   "source": [
    "model = model.cpu()"
   ]
  },
  {
   "cell_type": "code",
   "execution_count": 6,
   "id": "f03ada8d",
   "metadata": {},
   "outputs": [],
   "source": [
    "outputs = model(example)\n",
    "\n",
    "_, preds = torch.max(outputs, 1)"
   ]
  },
  {
   "cell_type": "code",
   "execution_count": 7,
   "id": "c1c8067f",
   "metadata": {},
   "outputs": [
    {
     "data": {
      "text/plain": [
       "tensor([2])"
      ]
     },
     "execution_count": 7,
     "metadata": {},
     "output_type": "execute_result"
    }
   ],
   "source": [
    "preds"
   ]
  },
  {
   "cell_type": "code",
   "execution_count": null,
   "id": "5c9981b0",
   "metadata": {},
   "outputs": [],
   "source": []
  }
 ],
 "metadata": {
  "kernelspec": {
   "display_name": "Python 3 (ipykernel)",
   "language": "python",
   "name": "python3"
  },
  "language_info": {
   "codemirror_mode": {
    "name": "ipython",
    "version": 3
   },
   "file_extension": ".py",
   "mimetype": "text/x-python",
   "name": "python",
   "nbconvert_exporter": "python",
   "pygments_lexer": "ipython3",
   "version": "3.8.13"
  }
 },
 "nbformat": 4,
 "nbformat_minor": 5
}
